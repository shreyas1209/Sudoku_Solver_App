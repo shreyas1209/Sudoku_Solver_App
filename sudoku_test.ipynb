{
  "nbformat": 4,
  "nbformat_minor": 0,
  "metadata": {
    "colab": {
      "name": "sudoku_test.ipynb",
      "provenance": [],
      "collapsed_sections": [],
      "authorship_tag": "ABX9TyPxvO/1iLo5doGwIGNLWlcL",
      "include_colab_link": true
    },
    "kernelspec": {
      "name": "python3",
      "display_name": "Python 3"
    },
    "language_info": {
      "name": "python"
    }
  },
  "cells": [
    {
      "cell_type": "markdown",
      "metadata": {
        "id": "view-in-github",
        "colab_type": "text"
      },
      "source": [
        "<a href=\"https://colab.research.google.com/github/shreyas1209/Sudoku_Solver_App/blob/main/sudoku_test.ipynb\" target=\"_parent\"><img src=\"https://colab.research.google.com/assets/colab-badge.svg\" alt=\"Open In Colab\"/></a>"
      ]
    },
    {
      "cell_type": "code",
      "metadata": {
        "id": "aAXwJAAJ5VOX",
        "colab": {
          "base_uri": "https://localhost:8080/"
        },
        "outputId": "ec451f88-9305-4571-c02d-8f8d3dc8baa1"
      },
      "source": [
        "import numpy as np\n",
        "from google.colab import drive\n",
        "drive.mount('/content/gdrive')"
      ],
      "execution_count": 1,
      "outputs": [
        {
          "output_type": "stream",
          "text": [
            "Drive already mounted at /content/gdrive; to attempt to forcibly remount, call drive.mount(\"/content/gdrive\", force_remount=True).\n"
          ],
          "name": "stdout"
        }
      ]
    },
    {
      "cell_type": "code",
      "metadata": {
        "id": "cWXoWdauLwIQ"
      },
      "source": [
        "import sys\n",
        "\n",
        "sys.path.append('/content/gdrive/MyDrive/Sudoku/Models')\n",
        "sys.path.append('/content/gdrive/MyDrive/Sudoku')"
      ],
      "execution_count": 2,
      "outputs": []
    },
    {
      "cell_type": "code",
      "metadata": {
        "id": "XWidXj4XLyvV"
      },
      "source": [
        "from sudoku_solver import *"
      ],
      "execution_count": 3,
      "outputs": []
    },
    {
      "cell_type": "code",
      "metadata": {
        "id": "pBedUDitL7Sj"
      },
      "source": [
        "sample_sudoku = np.array(\n",
        "    [[8,0,0,0,1,0,0,0,9],\n",
        "     [0,5,0,8,0,7,0,1,0],\n",
        "     [0,0,4,0,9,0,7,0,0],\n",
        "     [0,6,0,7,0,1,0,2,0],\n",
        "     [5,0,8,0,6,0,1,0,7],\n",
        "     [0,1,0,5,0,2,0,9,0],\n",
        "     [0,0,7,0,4,0,6,0,0],\n",
        "     [0,8,0,3,0,9,0,4,0],\n",
        "     [3,0,0,0,5,0,0,0,8]]\n",
        ")\n",
        "sample_sudoku1 = np.array(\n",
        "    [[8,5,0,0,0,2,4,0,0],\n",
        "     [7,2,0,0,0,0,0,0,9],\n",
        "     [0,0,4,0,0,0,0,0,0],\n",
        "     [0,0,0,1,0,7,0,0,2],\n",
        "     [3,0,5,0,0,0,9,0,0],\n",
        "     [0,4,0,0,0,0,0,0,0],\n",
        "     [0,0,0,0,8,0,0,7,0],\n",
        "     [0,1,7,0,0,0,0,0,0],\n",
        "     [0,0,0,0,3,6,0,4,0]]\n",
        ")\n",
        "\n",
        "\n"
      ],
      "execution_count": 13,
      "outputs": []
    },
    {
      "cell_type": "code",
      "metadata": {
        "colab": {
          "base_uri": "https://localhost:8080/"
        },
        "id": "noT_zMWEM89s",
        "outputId": "866801a5-eae3-4b7f-89dc-53fbf52907fa"
      },
      "source": [
        "output = solve_sudoku(sample_sudoku)\n",
        "if(output[0]==True):\n",
        "  print(output[1])\n",
        "\n"
      ],
      "execution_count": 14,
      "outputs": [
        {
          "output_type": "stream",
          "text": [
            "[[8 7 2 4 1 3 5 6 9]\n",
            " [9 5 6 8 2 7 3 1 4]\n",
            " [1 3 4 6 9 5 7 8 2]\n",
            " [4 6 9 7 3 1 8 2 5]\n",
            " [5 2 8 9 6 4 1 3 7]\n",
            " [7 1 3 5 8 2 4 9 6]\n",
            " [2 9 7 1 4 8 6 5 3]\n",
            " [6 8 5 3 7 9 2 4 1]\n",
            " [3 4 1 2 5 6 9 7 8]]\n"
          ],
          "name": "stdout"
        }
      ]
    },
    {
      "cell_type": "code",
      "metadata": {
        "colab": {
          "base_uri": "https://localhost:8080/"
        },
        "id": "IfWJfln2Mih_",
        "outputId": "65ae4fbe-4aba-4e2a-f561-a473a992f391"
      },
      "source": [
        "output1 = solve_sudoku(sample_sudoku1)\n",
        "if(output1[0]==True):\n",
        "  print(output1[1])"
      ],
      "execution_count": 15,
      "outputs": [
        {
          "output_type": "stream",
          "text": [
            "[[8 5 9 6 1 2 4 3 7]\n",
            " [7 2 3 8 5 4 1 6 9]\n",
            " [1 6 4 3 7 9 5 2 8]\n",
            " [9 8 6 1 4 7 3 5 2]\n",
            " [3 7 5 2 6 8 9 1 4]\n",
            " [2 4 1 5 9 3 7 8 6]\n",
            " [4 3 2 9 8 1 6 7 5]\n",
            " [6 1 7 4 2 5 8 9 3]\n",
            " [5 9 8 7 3 6 2 4 1]]\n"
          ],
          "name": "stdout"
        }
      ]
    },
    {
      "cell_type": "code",
      "metadata": {
        "id": "n_SYkKiZMioO"
      },
      "source": [
        ""
      ],
      "execution_count": null,
      "outputs": []
    }
  ]
}