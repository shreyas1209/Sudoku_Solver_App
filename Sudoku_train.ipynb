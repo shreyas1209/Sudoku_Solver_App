{
  "nbformat": 4,
  "nbformat_minor": 0,
  "metadata": {
    "accelerator": "GPU",
    "colab": {
      "name": "Sudoku_train.ipynb",
      "provenance": [],
      "collapsed_sections": [],
      "authorship_tag": "ABX9TyNGZJU/RyPb44KfJ8qZ1cX/",
      "include_colab_link": true
    },
    "kernelspec": {
      "display_name": "Python 3",
      "name": "python3"
    },
    "language_info": {
      "name": "python"
    }
  },
  "cells": [
    {
      "cell_type": "markdown",
      "metadata": {
        "id": "view-in-github",
        "colab_type": "text"
      },
      "source": [
        "<a href=\"https://colab.research.google.com/github/shreyas1209/Sudoku_Solver_App/blob/main/Sudoku_train.ipynb\" target=\"_parent\"><img src=\"https://colab.research.google.com/assets/colab-badge.svg\" alt=\"Open In Colab\"/></a>"
      ]
    },
    {
      "cell_type": "code",
      "metadata": {
        "id": "SRvmAq2LiMb1"
      },
      "source": [
        "import torch.nn.functional as F\n",
        "import time \n",
        "import random\n",
        "from torch import nn\n",
        "import torch\n",
        "import numpy as np\n",
        "import matplotlib.pyplot as plt\n",
        "from torch import nn,optim\n",
        "from torch.utils.data import Dataset, DataLoader\n",
        "from torch.utils.data.dataset import TensorDataset\n",
        "from sklearn.datasets import fetch_openml\n",
        "from sklearn.model_selection import train_test_split\n",
        "import torchvision.utils as vutils"
      ],
      "execution_count": null,
      "outputs": []
    },
    {
      "cell_type": "code",
      "metadata": {
        "colab": {
          "base_uri": "https://localhost:8080/"
        },
        "id": "hQYM2yGvzDW9",
        "outputId": "d24d6446-fa65-4fea-ebac-3725c46283fa"
      },
      "source": [
        "#mounting google drive\n",
        "from google.colab import drive\n",
        "drive.mount('/content/gdrive')"
      ],
      "execution_count": null,
      "outputs": [
        {
          "output_type": "stream",
          "text": [
            "Drive already mounted at /content/gdrive; to attempt to forcibly remount, call drive.mount(\"/content/gdrive\", force_remount=True).\n"
          ],
          "name": "stdout"
        }
      ]
    },
    {
      "cell_type": "code",
      "metadata": {
        "id": "vVjKpsLykOqy"
      },
      "source": [
        ""
      ],
      "execution_count": null,
      "outputs": []
    },
    {
      "cell_type": "code",
      "metadata": {
        "id": "3-1Zfq3TzlbL"
      },
      "source": [
        "device = torch.device(\"cuda\" if torch.cuda.is_available() else \"cpu\") "
      ],
      "execution_count": null,
      "outputs": []
    },
    {
      "cell_type": "code",
      "metadata": {
        "id": "30yYmjLAi8JL"
      },
      "source": [
        "X, y = fetch_openml('mnist_784', version=1, return_X_y=True)"
      ],
      "execution_count": null,
      "outputs": []
    },
    {
      "cell_type": "code",
      "metadata": {
        "id": "VEUJg66M06tk"
      },
      "source": [
        "X = ((X-np.mean(X))/(np.std(X)))\n",
        "X = X.reshape(X.shape[0],1,28,28)\n"
      ],
      "execution_count": null,
      "outputs": []
    },
    {
      "cell_type": "code",
      "metadata": {
        "id": "sOS1-_Bu2Lz2"
      },
      "source": [
        "X = X.astype('float32')\n",
        "y = np.int_(y)\n"
      ],
      "execution_count": null,
      "outputs": []
    },
    {
      "cell_type": "code",
      "metadata": {
        "id": "2OBq-PPf5AxW"
      },
      "source": [
        "X = torch.tensor(X,device = device,dtype = torch.float)\n",
        "y = torch.tensor(y,device = device)\n",
        "y = y.type(torch.LongTensor)"
      ],
      "execution_count": null,
      "outputs": []
    },
    {
      "cell_type": "code",
      "metadata": {
        "id": "zyxMT_VLXikn"
      },
      "source": [
        "X_printed = torch.load('/content/gdrive/MyDrive/Sudoku/printed_mnist/assets/X_printed_tensor',map_location= device)\n",
        "X_printed = X_printed.to(dtype = torch.float)\n",
        "y_printed = torch.load('/content/gdrive/MyDrive/Sudoku/printed_mnist/assets/y_printed_tensor',map_location= device)"
      ],
      "execution_count": null,
      "outputs": []
    },
    {
      "cell_type": "code",
      "metadata": {
        "colab": {
          "base_uri": "https://localhost:8080/"
        },
        "id": "wbbv3QRQYXCR",
        "outputId": "6c63e3ba-2abf-40ab-edc8-e8ec30861f1e"
      },
      "source": [
        "X_print_train,X_print_val,y_print_train,y_print_val = train_test_split(X_printed,y_printed, test_size=0.2, random_state=42)\n",
        "print(X_print_train.shape,X_print_val.shape,y_print_train.shape,y_print_val.shape)"
      ],
      "execution_count": null,
      "outputs": [
        {
          "output_type": "stream",
          "text": [
            "torch.Size([2764, 1, 28, 28]) torch.Size([692, 1, 28, 28]) torch.Size([2764]) torch.Size([692])\n"
          ],
          "name": "stdout"
        }
      ]
    },
    {
      "cell_type": "code",
      "metadata": {
        "id": "Xcb3NhwIjl8r"
      },
      "source": [
        "X_train,X_val,y_train,y_val = train_test_split(X,y, test_size=0.33, random_state=42)\n",
        "X_train = X_train.to(device)\n",
        "X_val = X_val.to(device)\n",
        "y_train = y_train.to(device)\n",
        "y_val = y_val.to(device)\n",
        "\n"
      ],
      "execution_count": null,
      "outputs": []
    },
    {
      "cell_type": "code",
      "metadata": {
        "colab": {
          "base_uri": "https://localhost:8080/"
        },
        "id": "VUs-zEdZZMWo",
        "outputId": "cffc16f7-624f-4580-d193-d5e30e079324"
      },
      "source": [
        "X_train1 = torch.cat((X_train,X_print_train))\n",
        "X_val1 = torch.cat((X_val,X_print_val))\n",
        "y_train1 = torch.cat((y_train,y_print_train))\n",
        "y_val1 = torch.cat((y_val,y_print_val))\n",
        "\n",
        "print(X_train1.shape,y_train1.shape,X_val1.shape,y_val1.shape)\n"
      ],
      "execution_count": null,
      "outputs": [
        {
          "output_type": "stream",
          "text": [
            "torch.Size([49664, 1, 28, 28]) torch.Size([49664]) torch.Size([23792, 1, 28, 28]) torch.Size([23792])\n"
          ],
          "name": "stdout"
        }
      ]
    },
    {
      "cell_type": "code",
      "metadata": {
        "id": "9Jd3mfTx0tg5"
      },
      "source": [
        "train_dataset = TensorDataset(X_train,y_train)\n",
        "val_dataset = TensorDataset(X_val,y_val)"
      ],
      "execution_count": null,
      "outputs": []
    },
    {
      "cell_type": "code",
      "metadata": {
        "id": "0GjrbvQ6cG0K"
      },
      "source": [
        "train_dataset1 = TensorDataset(X_train1,y_train1)\n",
        "val_dataset1 = TensorDataset(X_val1,y_val1)"
      ],
      "execution_count": null,
      "outputs": []
    },
    {
      "cell_type": "code",
      "metadata": {
        "id": "3GvwmO6A5TsR"
      },
      "source": [
        "batchsize = 64\n",
        "train_dataloader = DataLoader(dataset=train_dataset,batch_size = batchsize)\n",
        "val_dataloader = DataLoader(dataset=val_dataset,batch_size = batchsize)\n",
        "train_dataloader1 = DataLoader(dataset=train_dataset1,batch_size = batchsize)\n",
        "val_dataloader1 = DataLoader(dataset=val_dataset1,batch_size = batchsize)"
      ],
      "execution_count": null,
      "outputs": []
    },
    {
      "cell_type": "code",
      "metadata": {
        "colab": {
          "base_uri": "https://localhost:8080/",
          "height": 70
        },
        "id": "XfDH_3Sp6Ey2",
        "outputId": "cef418de-f0f5-48b4-9460-a3668842335e"
      },
      "source": [
        "'''#plotting the images\n",
        "train_batch = next(iter(train_dataloader))\n",
        "plt.figure(figsize=(8,8))\n",
        "plt.axis(\"off\")\n",
        "plt.title(\"Training Images\")\n",
        "plt.imshow(np.transpose(vutils.make_grid(train_batch[0][:64], padding=2, normalize=True),(1,2,0)))'''\n"
      ],
      "execution_count": null,
      "outputs": [
        {
          "output_type": "execute_result",
          "data": {
            "application/vnd.google.colaboratory.intrinsic+json": {
              "type": "string"
            },
            "text/plain": [
              "'#plotting the images\\ntrain_batch = next(iter(train_dataloader))\\nplt.figure(figsize=(8,8))\\nplt.axis(\"off\")\\nplt.title(\"Training Images\")\\nplt.imshow(np.transpose(vutils.make_grid(train_batch[0][:64], padding=2, normalize=True),(1,2,0)))'"
            ]
          },
          "metadata": {
            "tags": []
          },
          "execution_count": 15
        }
      ]
    },
    {
      "cell_type": "code",
      "metadata": {
        "colab": {
          "base_uri": "https://localhost:8080/",
          "height": 70
        },
        "id": "Kg5traF06cXI",
        "outputId": "4cdb893a-ee89-4c31-c4b0-f1f2db4bec04"
      },
      "source": [
        "'''#plotting a set of  val images\n",
        "val_batch = next(iter(val_dataloader))\n",
        "plt.figure(figsize=(8,8))\n",
        "plt.axis(\"off\")\n",
        "plt.title(\"Test Images\")\n",
        "plt.imshow(np.transpose(vutils.make_grid(val_batch[0][:64], padding=2, normalize=True),(1,2,0)))'''"
      ],
      "execution_count": null,
      "outputs": [
        {
          "output_type": "execute_result",
          "data": {
            "application/vnd.google.colaboratory.intrinsic+json": {
              "type": "string"
            },
            "text/plain": [
              "'#plotting a set of  val images\\nval_batch = next(iter(val_dataloader))\\nplt.figure(figsize=(8,8))\\nplt.axis(\"off\")\\nplt.title(\"Test Images\")\\nplt.imshow(np.transpose(vutils.make_grid(val_batch[0][:64], padding=2, normalize=True),(1,2,0)))'"
            ]
          },
          "metadata": {
            "tags": []
          },
          "execution_count": 16
        }
      ]
    },
    {
      "cell_type": "code",
      "metadata": {
        "colab": {
          "base_uri": "https://localhost:8080/",
          "height": 70
        },
        "id": "YHb7y8MEcUrn",
        "outputId": "d6f224ec-fc74-40db-d581-cf311754a848"
      },
      "source": [
        "'''#plotting the images\n",
        "train_batch = next(iter(train_dataloader1))\n",
        "plt.figure(figsize=(8,8))\n",
        "plt.axis(\"off\")\n",
        "plt.title(\"Training Images\")\n",
        "plt.imshow(np.transpose(vutils.make_grid(train_batch[0][:64], padding=2, normalize=True),(1,2,0)))'''\n"
      ],
      "execution_count": null,
      "outputs": [
        {
          "output_type": "execute_result",
          "data": {
            "application/vnd.google.colaboratory.intrinsic+json": {
              "type": "string"
            },
            "text/plain": [
              "'#plotting the images\\ntrain_batch = next(iter(train_dataloader1))\\nplt.figure(figsize=(8,8))\\nplt.axis(\"off\")\\nplt.title(\"Training Images\")\\nplt.imshow(np.transpose(vutils.make_grid(train_batch[0][:64], padding=2, normalize=True),(1,2,0)))'"
            ]
          },
          "metadata": {
            "tags": []
          },
          "execution_count": 17
        }
      ]
    },
    {
      "cell_type": "code",
      "metadata": {
        "colab": {
          "base_uri": "https://localhost:8080/",
          "height": 70
        },
        "id": "9hYaPlmxcaRW",
        "outputId": "9045c7b1-a788-45a5-c702-a560f387fd45"
      },
      "source": [
        "'''#plotting a set of  val images\n",
        "val_batch = next(iter(val_dataloader1))\n",
        "plt.figure(figsize=(8,8))\n",
        "plt.axis(\"off\")\n",
        "plt.title(\"Test Images\")\n",
        "plt.imshow(np.transpose(vutils.make_grid(val_batch[0][:64], padding=2, normalize=True),(1,2,0)))'''"
      ],
      "execution_count": null,
      "outputs": [
        {
          "output_type": "execute_result",
          "data": {
            "application/vnd.google.colaboratory.intrinsic+json": {
              "type": "string"
            },
            "text/plain": [
              "'#plotting a set of  val images\\nval_batch = next(iter(val_dataloader1))\\nplt.figure(figsize=(8,8))\\nplt.axis(\"off\")\\nplt.title(\"Test Images\")\\nplt.imshow(np.transpose(vutils.make_grid(val_batch[0][:64], padding=2, normalize=True),(1,2,0)))'"
            ]
          },
          "metadata": {
            "tags": []
          },
          "execution_count": 18
        }
      ]
    },
    {
      "cell_type": "code",
      "metadata": {
        "id": "50goVlqmSC46"
      },
      "source": [
        "def check_accuracy(model,dataloader):\n",
        "  num_correct = 0\n",
        "  num_samples = 0\n",
        "  model.eval()\n",
        "  model = model.to(device)\n",
        "  \n",
        "  with torch.no_grad():\n",
        "    for DATA  in dataloader:\n",
        "      data = DATA[0]\n",
        "      data = data.to(device)\n",
        "      classes = DATA[1]\n",
        "      classes = classes.to(device)\n",
        "      scores = model(data)\n",
        "      predictions = scores.argmax(1)\n",
        "      num_correct += sum((predictions == classes))\n",
        "      num_samples += predictions.size(0)\n",
        "\n",
        "    return float(num_correct)/float(num_samples)\n"
      ],
      "execution_count": null,
      "outputs": []
    },
    {
      "cell_type": "code",
      "metadata": {
        "id": "nFi-NvEXUZjT"
      },
      "source": [
        "def train (model,loss_function,optimizer,train_dl,val_dl,epochs):\n",
        "  if torch.cuda.is_available(): torch.cuda.empty_cache()\n",
        "  model = model.to(device = device)\n",
        "  history = {\"train_accuracies\": [], \"val_accuracies\": [], \"loss\":[]}\n",
        "\n",
        "  for epoch in range (epochs):\n",
        "    \n",
        "    model.train()\n",
        "    train_loss = 0\n",
        "    start = time.time()\n",
        "\n",
        "    for batch_no,DATA in enumerate(train_dl,0):\n",
        "      data,classes = DATA\n",
        "      optimizer.zero_grad()\n",
        "      data = data.to(torch.float32)\n",
        "      data = data.to(device)\n",
        "      classes = classes.to(device)\n",
        "      outputs = model(data)\n",
        "      loss = loss_function(outputs,classes)\n",
        "      loss.backward()\n",
        "      optimizer.step()\n",
        "\n",
        "      \n",
        "      running_loss = loss.item()\n",
        "    \n",
        "    #getting the stats\n",
        "    history['train_accuracies'].append(check_accuracy(model,train_dl))\n",
        "    history['val_accuracies'].append(check_accuracy(model,val_dl))\n",
        "    history['loss'].append(running_loss/(len(train_dl)))\n",
        "    \n",
        "    end = time.time()\n",
        "    total_time = end-start\n",
        "\n",
        "    #printing the stats\n",
        "    print('Epoch ({}/{}),Training loss : {:.8f}, Time: {:.2f}, train_accuracy:{:.4f}, val_accuracy:{:.4f}'.format(\n",
        "          epoch+1, epochs, history[\"loss\"][-1], total_time, history[\"train_accuracies\"][-1], history[\"val_accuracies\"][-1]))\n",
        "\n",
        "  return model, history"
      ],
      "execution_count": null,
      "outputs": []
    },
    {
      "cell_type": "code",
      "metadata": {
        "id": "aSxWFdJMleSU"
      },
      "source": [
        ""
      ],
      "execution_count": null,
      "outputs": []
    },
    {
      "cell_type": "code",
      "metadata": {
        "id": "qJw7o36nafXr"
      },
      "source": [
        "#importing the model\n",
        "\n",
        "import sys\n",
        "\n",
        "sys.path.append('/content/gdrive/MyDrive/Sudoku/Models')"
      ],
      "execution_count": null,
      "outputs": []
    },
    {
      "cell_type": "code",
      "metadata": {
        "id": "7Q1o9caRcC22"
      },
      "source": [
        "from sudoku_net import *"
      ],
      "execution_count": null,
      "outputs": []
    },
    {
      "cell_type": "code",
      "metadata": {
        "id": "NFLlcsxm1s3s"
      },
      "source": [
        "def plot_analysis(history,epochs):\n",
        "  epoch_no = [(i+1) for i in range(epochs)]\n",
        "\n",
        "  plt.plot(epoch_no,history[\"train_accuracies\"], label = 'Train Accuracies')\n",
        "  plt.plot(epoch_no,history[\"val_accuracies\"], label = 'Validation Accuracies')\n",
        "  plt.xlabel(\"Epochs\")\n",
        "  plt.ylabel(\"Accuracies\")\n",
        "  plt.title('Accuracy')\n",
        "  plt.legend()\n",
        "  plt.show()\n",
        "\n",
        "  plt.plot(epoch_no,history[\"loss\"])\n",
        "  plt.xlabel(\"Epochs\")\n",
        "  plt.ylabel(\"Loss\")\n",
        "  plt.title('Loss')\n",
        "  plt.show()\n"
      ],
      "execution_count": null,
      "outputs": []
    },
    {
      "cell_type": "code",
      "metadata": {
        "id": "XhOwpE1QcsL2"
      },
      "source": [
        "epochs = 25\n",
        "learning_rate = 1e-3"
      ],
      "execution_count": null,
      "outputs": []
    },
    {
      "cell_type": "code",
      "metadata": {
        "id": "iKb0a5AFcGA4"
      },
      "source": [
        "model1  = sudokunet1(output_classes=10)\n",
        "model2 = sudokunet2(output_classes=10)\n",
        "model3 = sudokunet3(output_classes=10)\n",
        "\n",
        "loss_fn = nn.CrossEntropyLoss()\n",
        "optimizer1 = optim.Adam(model1.parameters(), lr = learning_rate)\n",
        "optimizer2 = optim.Adam(model2.parameters(), lr = learning_rate)\n",
        "optimizer3 = optim.Adam(model3.parameters(), lr = learning_rate)\n"
      ],
      "execution_count": null,
      "outputs": []
    },
    {
      "cell_type": "code",
      "metadata": {
        "colab": {
          "base_uri": "https://localhost:8080/"
        },
        "id": "iHFAqSNR1q9t",
        "outputId": "58086850-e80f-46d7-e8d3-e58adc7c86e2"
      },
      "source": [
        "start = time.time()\n",
        "model1,history1 = train(model = model1,\n",
        "                      loss_function=loss_fn,\n",
        "                      optimizer = optimizer1,\n",
        "                      train_dl = train_dataloader1,\n",
        "                      val_dl = val_dataloader1,\n",
        "                      epochs = epochs)\n",
        "end = time.time()\n",
        "elapsed = end-start\n",
        "print(\"Total time :\", elapsed)"
      ],
      "execution_count": null,
      "outputs": [
        {
          "output_type": "stream",
          "text": [
            "/usr/local/lib/python3.7/dist-packages/torch/nn/functional.py:718: UserWarning: Named tensors and all their associated APIs are an experimental feature and subject to change. Please do not use them for anything important until they are released as stable. (Triggered internally at  /pytorch/c10/core/TensorImpl.h:1156.)\n",
            "  return torch.max_pool2d(input, kernel_size, stride, padding, dilation, ceil_mode)\n",
            "/content/gdrive/MyDrive/Sudoku/Models/sudoku_net.py:40: UserWarning: Implicit dimension choice for softmax has been deprecated. Change the call to include dim=X as an argument.\n",
            "  x = F.softmax(x)\n"
          ],
          "name": "stderr"
        },
        {
          "output_type": "stream",
          "text": [
            "Epoch (1/25),Training loss : 0.00244340, Time: 3.56, train_accuracy:0.8619, val_accuracy:0.8658\n",
            "Epoch (2/25),Training loss : 0.00225129, Time: 3.46, train_accuracy:0.9226, val_accuracy:0.9236\n",
            "Epoch (3/25),Training loss : 0.00211765, Time: 3.40, train_accuracy:0.9517, val_accuracy:0.9533\n",
            "Epoch (4/25),Training loss : 0.00209323, Time: 3.39, train_accuracy:0.9669, val_accuracy:0.9681\n",
            "Epoch (5/25),Training loss : 0.00206724, Time: 3.46, train_accuracy:0.9705, val_accuracy:0.9693\n",
            "Epoch (6/25),Training loss : 0.00205159, Time: 3.39, train_accuracy:0.9754, val_accuracy:0.9728\n",
            "Epoch (7/25),Training loss : 0.00202988, Time: 3.40, train_accuracy:0.9762, val_accuracy:0.9720\n",
            "Epoch (8/25),Training loss : 0.00201219, Time: 3.40, train_accuracy:0.9819, val_accuracy:0.9801\n",
            "Epoch (9/25),Training loss : 0.00198303, Time: 3.40, train_accuracy:0.9781, val_accuracy:0.9734\n",
            "Epoch (10/25),Training loss : 0.00197150, Time: 3.55, train_accuracy:0.9828, val_accuracy:0.9787\n",
            "Epoch (11/25),Training loss : 0.00198671, Time: 3.41, train_accuracy:0.9872, val_accuracy:0.9829\n",
            "Epoch (12/25),Training loss : 0.00194385, Time: 3.40, train_accuracy:0.9850, val_accuracy:0.9802\n",
            "Epoch (13/25),Training loss : 0.00194445, Time: 3.45, train_accuracy:0.9873, val_accuracy:0.9831\n",
            "Epoch (14/25),Training loss : 0.00198943, Time: 3.44, train_accuracy:0.9871, val_accuracy:0.9823\n",
            "Epoch (15/25),Training loss : 0.00191276, Time: 3.43, train_accuracy:0.9868, val_accuracy:0.9820\n",
            "Epoch (16/25),Training loss : 0.00196334, Time: 3.41, train_accuracy:0.9870, val_accuracy:0.9824\n",
            "Epoch (17/25),Training loss : 0.00192614, Time: 3.39, train_accuracy:0.9898, val_accuracy:0.9854\n",
            "Epoch (18/25),Training loss : 0.00192079, Time: 3.41, train_accuracy:0.9882, val_accuracy:0.9833\n",
            "Epoch (19/25),Training loss : 0.00194340, Time: 3.49, train_accuracy:0.9869, val_accuracy:0.9813\n",
            "Epoch (20/25),Training loss : 0.00201141, Time: 3.39, train_accuracy:0.9895, val_accuracy:0.9850\n",
            "Epoch (21/25),Training loss : 0.00193262, Time: 3.43, train_accuracy:0.9891, val_accuracy:0.9857\n",
            "Epoch (22/25),Training loss : 0.00192359, Time: 3.39, train_accuracy:0.9894, val_accuracy:0.9836\n",
            "Epoch (23/25),Training loss : 0.00192311, Time: 3.39, train_accuracy:0.9878, val_accuracy:0.9826\n",
            "Epoch (24/25),Training loss : 0.00194417, Time: 3.41, train_accuracy:0.9911, val_accuracy:0.9857\n",
            "Epoch (25/25),Training loss : 0.00192538, Time: 3.40, train_accuracy:0.9875, val_accuracy:0.9808\n",
            "Total time : 85.64942216873169\n"
          ],
          "name": "stdout"
        }
      ]
    },
    {
      "cell_type": "markdown",
      "metadata": {
        "id": "MTw0Ovxna9Xi"
      },
      "source": [
        ""
      ]
    },
    {
      "cell_type": "code",
      "metadata": {
        "id": "RBVl4F1I1sqS",
        "colab": {
          "base_uri": "https://localhost:8080/"
        },
        "outputId": "52ab11fa-e1ad-45ff-930e-4218005b4940"
      },
      "source": [
        "start = time.time()\n",
        "model2,history2 = train(model = model2,\n",
        "                      loss_function=loss_fn,\n",
        "                      optimizer = optimizer2,\n",
        "                      train_dl = train_dataloader1,\n",
        "                      val_dl = val_dataloader1,\n",
        "                      epochs = epochs)\n",
        "end = time.time()\n",
        "elapsed = end-start\n",
        "print(\"Total time :\", elapsed)"
      ],
      "execution_count": null,
      "outputs": [
        {
          "output_type": "stream",
          "text": [
            "/content/gdrive/MyDrive/Sudoku/Models/sudoku_net.py:75: UserWarning: Implicit dimension choice for softmax has been deprecated. Change the call to include dim=X as an argument.\n",
            "  x = F.softmax(x)\n"
          ],
          "name": "stderr"
        },
        {
          "output_type": "stream",
          "text": [
            "Epoch (1/25),Training loss : 0.00238637, Time: 3.49, train_accuracy:0.9374, val_accuracy:0.9440\n",
            "Epoch (2/25),Training loss : 0.00236624, Time: 3.59, train_accuracy:0.9562, val_accuracy:0.9592\n",
            "Epoch (3/25),Training loss : 0.00221429, Time: 3.47, train_accuracy:0.9654, val_accuracy:0.9674\n",
            "Epoch (4/25),Training loss : 0.00219691, Time: 3.55, train_accuracy:0.9662, val_accuracy:0.9688\n",
            "Epoch (5/25),Training loss : 0.00215786, Time: 3.48, train_accuracy:0.9739, val_accuracy:0.9713\n",
            "Epoch (6/25),Training loss : 0.00212706, Time: 3.49, train_accuracy:0.9695, val_accuracy:0.9677\n",
            "Epoch (7/25),Training loss : 0.00205134, Time: 3.47, train_accuracy:0.9812, val_accuracy:0.9789\n",
            "Epoch (8/25),Training loss : 0.00199103, Time: 3.50, train_accuracy:0.9804, val_accuracy:0.9779\n",
            "Epoch (9/25),Training loss : 0.00196527, Time: 3.46, train_accuracy:0.9828, val_accuracy:0.9804\n",
            "Epoch (10/25),Training loss : 0.00200368, Time: 3.45, train_accuracy:0.9828, val_accuracy:0.9789\n",
            "Epoch (11/25),Training loss : 0.00195828, Time: 3.49, train_accuracy:0.9854, val_accuracy:0.9822\n",
            "Epoch (12/25),Training loss : 0.00196507, Time: 3.51, train_accuracy:0.9834, val_accuracy:0.9804\n",
            "Epoch (13/25),Training loss : 0.00192076, Time: 3.55, train_accuracy:0.9852, val_accuracy:0.9813\n",
            "Epoch (14/25),Training loss : 0.00200409, Time: 3.52, train_accuracy:0.9864, val_accuracy:0.9827\n",
            "Epoch (15/25),Training loss : 0.00198831, Time: 3.45, train_accuracy:0.9876, val_accuracy:0.9836\n",
            "Epoch (16/25),Training loss : 0.00201827, Time: 3.44, train_accuracy:0.9871, val_accuracy:0.9834\n",
            "Epoch (17/25),Training loss : 0.00196362, Time: 3.48, train_accuracy:0.9878, val_accuracy:0.9833\n",
            "Epoch (18/25),Training loss : 0.00199006, Time: 3.48, train_accuracy:0.9863, val_accuracy:0.9819\n",
            "Epoch (19/25),Training loss : 0.00194768, Time: 3.46, train_accuracy:0.9883, val_accuracy:0.9838\n",
            "Epoch (20/25),Training loss : 0.00195323, Time: 3.57, train_accuracy:0.9883, val_accuracy:0.9835\n",
            "Epoch (21/25),Training loss : 0.00194911, Time: 3.49, train_accuracy:0.9884, val_accuracy:0.9838\n",
            "Epoch (22/25),Training loss : 0.00196398, Time: 3.47, train_accuracy:0.9869, val_accuracy:0.9819\n",
            "Epoch (23/25),Training loss : 0.00196441, Time: 3.57, train_accuracy:0.9868, val_accuracy:0.9820\n",
            "Epoch (24/25),Training loss : 0.00198362, Time: 3.41, train_accuracy:0.9885, val_accuracy:0.9853\n",
            "Epoch (25/25),Training loss : 0.00196922, Time: 3.42, train_accuracy:0.9894, val_accuracy:0.9853\n",
            "Total time : 87.27705836296082\n"
          ],
          "name": "stdout"
        }
      ]
    },
    {
      "cell_type": "code",
      "metadata": {
        "colab": {
          "base_uri": "https://localhost:8080/"
        },
        "id": "X6TC8uLHeo67",
        "outputId": "f343f396-1af9-45e6-f45d-db6565d4578f"
      },
      "source": [
        "start = time.time()\n",
        "model3,history3 = train(model = model3,\n",
        "                      loss_function=loss_fn,\n",
        "                      optimizer = optimizer3,\n",
        "                      train_dl = train_dataloader1,\n",
        "                      val_dl = val_dataloader1,\n",
        "                      epochs = epochs)\n",
        "end = time.time()\n",
        "elapsed = end-start\n",
        "print(\"Total time :\", elapsed)"
      ],
      "execution_count": null,
      "outputs": [
        {
          "output_type": "stream",
          "text": [
            "/content/gdrive/MyDrive/Sudoku/Models/sudoku_net.py:109: UserWarning: Implicit dimension choice for softmax has been deprecated. Change the call to include dim=X as an argument.\n",
            "  x = F.softmax(x)\n"
          ],
          "name": "stderr"
        },
        {
          "output_type": "stream",
          "text": [
            "Epoch (1/25),Training loss : 0.00247936, Time: 3.55, train_accuracy:0.9239, val_accuracy:0.9292\n",
            "Epoch (2/25),Training loss : 0.00229523, Time: 3.60, train_accuracy:0.9465, val_accuracy:0.9494\n",
            "Epoch (3/25),Training loss : 0.00215031, Time: 3.55, train_accuracy:0.9579, val_accuracy:0.9591\n",
            "Epoch (4/25),Training loss : 0.00219142, Time: 3.54, train_accuracy:0.9723, val_accuracy:0.9715\n",
            "Epoch (5/25),Training loss : 0.00219547, Time: 3.51, train_accuracy:0.9655, val_accuracy:0.9649\n",
            "Epoch (6/25),Training loss : 0.00207763, Time: 3.57, train_accuracy:0.9765, val_accuracy:0.9749\n",
            "Epoch (7/25),Training loss : 0.00206666, Time: 3.63, train_accuracy:0.9733, val_accuracy:0.9708\n",
            "Epoch (8/25),Training loss : 0.00208614, Time: 3.51, train_accuracy:0.9824, val_accuracy:0.9788\n",
            "Epoch (9/25),Training loss : 0.00214346, Time: 3.72, train_accuracy:0.9780, val_accuracy:0.9737\n",
            "Epoch (10/25),Training loss : 0.00208362, Time: 3.66, train_accuracy:0.9812, val_accuracy:0.9769\n",
            "Epoch (11/25),Training loss : 0.00210159, Time: 3.65, train_accuracy:0.9798, val_accuracy:0.9759\n",
            "Epoch (12/25),Training loss : 0.00204462, Time: 3.62, train_accuracy:0.9826, val_accuracy:0.9785\n",
            "Epoch (13/25),Training loss : 0.00202312, Time: 3.56, train_accuracy:0.9812, val_accuracy:0.9778\n",
            "Epoch (14/25),Training loss : 0.00215185, Time: 3.60, train_accuracy:0.9767, val_accuracy:0.9742\n",
            "Epoch (15/25),Training loss : 0.00209180, Time: 3.65, train_accuracy:0.9782, val_accuracy:0.9749\n",
            "Epoch (16/25),Training loss : 0.00198361, Time: 3.60, train_accuracy:0.9858, val_accuracy:0.9829\n",
            "Epoch (17/25),Training loss : 0.00204388, Time: 3.56, train_accuracy:0.9760, val_accuracy:0.9728\n",
            "Epoch (18/25),Training loss : 0.00198563, Time: 3.52, train_accuracy:0.9799, val_accuracy:0.9764\n",
            "Epoch (19/25),Training loss : 0.00201342, Time: 3.58, train_accuracy:0.9833, val_accuracy:0.9802\n",
            "Epoch (20/25),Training loss : 0.00197209, Time: 3.51, train_accuracy:0.9831, val_accuracy:0.9797\n",
            "Epoch (21/25),Training loss : 0.00200374, Time: 3.49, train_accuracy:0.9842, val_accuracy:0.9812\n",
            "Epoch (22/25),Training loss : 0.00198347, Time: 3.46, train_accuracy:0.9838, val_accuracy:0.9810\n",
            "Epoch (23/25),Training loss : 0.00205032, Time: 3.50, train_accuracy:0.9820, val_accuracy:0.9798\n",
            "Epoch (24/25),Training loss : 0.00206413, Time: 3.50, train_accuracy:0.9807, val_accuracy:0.9771\n",
            "Epoch (25/25),Training loss : 0.00204398, Time: 3.49, train_accuracy:0.9839, val_accuracy:0.9810\n",
            "Total time : 89.15796208381653\n"
          ],
          "name": "stdout"
        }
      ]
    },
    {
      "cell_type": "code",
      "metadata": {
        "id": "_mPHGvWOdjHT"
      },
      "source": [
        "torch.save(model1.state_dict(), 'model1_weights.pth')\n",
        "torch.save(model2.state_dict(), 'model2_weights.pth')\n",
        "torch.save(model3.state_dict(), 'model3_weights.pth')"
      ],
      "execution_count": null,
      "outputs": []
    },
    {
      "cell_type": "code",
      "metadata": {
        "colab": {
          "base_uri": "https://localhost:8080/",
          "height": 573
        },
        "id": "JzCsAF0De1yr",
        "outputId": "73a26a1a-cc23-4963-b18b-6c14bd90cf8d"
      },
      "source": [
        "plot_analysis(history1,epochs)"
      ],
      "execution_count": null,
      "outputs": [
        {
          "output_type": "display_data",
          "data": {
            "image/png": "[encoded data removed]",
            "text/plain": [
              "<Figure size 432x288 with 1 Axes>"
            ]
          },
          "metadata": {
            "tags": [],
            "needs_background": "light"
          }
        },
        {
          "output_type": "display_data",
          "data": {
            "image/png": "[encoded data removed]",
            "text/plain": [
              "<Figure size 432x288 with 1 Axes>"
            ]
          },
          "metadata": {
            "tags": [],
            "needs_background": "light"
          }
        }
      ]
    },
    {
      "cell_type": "code",
      "metadata": {
        "colab": {
          "base_uri": "https://localhost:8080/",
          "height": 573
        },
        "id": "woppM5bufDJ_",
        "outputId": "4695fe00-3a87-410c-a969-42151bafc4d0"
      },
      "source": [
        "plot_analysis(history2,epochs)"
      ],
      "execution_count": null,
      "outputs": [
        {
          "output_type": "display_data",
          "data": {
            "image/png": "[encoded data removed]",
            "text/plain": [
              "<Figure size 432x288 with 1 Axes>"
            ]
          },
          "metadata": {
            "tags": [],
            "needs_background": "light"
          }
        },
        {
          "output_type": "display_data",
          "data": {
            "image/png": "[encoded data removed]",
            "text/plain": [
              "<Figure size 432x288 with 1 Axes>"
            ]
          },
          "metadata": {
            "tags": [],
            "needs_background": "light"
          }
        }
      ]
    },
    {
      "cell_type": "code",
      "metadata": {
        "colab": {
          "base_uri": "https://localhost:8080/",
          "height": 573
        },
        "id": "A0KjR3nQfEh5",
        "outputId": "a7d0a563-449c-48b5-de84-f9326c4e17c6"
      },
      "source": [
        "plot_analysis(history3,epochs)"
      ],
      "execution_count": null,
      "outputs": [
        {
          "output_type": "display_data",
          "data": {
            "image/png": "[encoded data removed]",
            "text/plain": [
              "<Figure size 432x288 with 1 Axes>"
            ]
          },
          "metadata": {
            "tags": [],
            "needs_background": "light"
          }
        },
        {
          "output_type": "display_data",
          "data": {
            "image/png": "[encoded data removed]",
            "text/plain": [
              "<Figure size 432x288 with 1 Axes>"
            ]
          },
          "metadata": {
            "tags": [],
            "needs_background": "light"
          }
        }
      ]
    }
  ]
}